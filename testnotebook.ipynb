{
 "cells": [
  {
   "cell_type": "code",
   "execution_count": 1,
   "metadata": {},
   "outputs": [],
   "source": [
    "import re"
   ]
  },
  {
   "cell_type": "code",
   "execution_count": 2,
   "metadata": {},
   "outputs": [],
   "source": [
    "from BPE.vocab_builder import * \n",
    "from BPE.tokenizer import * "
   ]
  },
  {
   "cell_type": "code",
   "execution_count": 3,
   "metadata": {},
   "outputs": [],
   "source": [
    "corpus = '''\n",
    "I assure you, dear, that the country has not that\n",
    "effect at all.  Why, it was from Melthorpe, which is only two miles from\n",
    "here, that Lady Belton eloped with Lord Fethersdale.  I remember the\n",
    "occurrence perfectly.  Poor Lord Belton died three days afterwards of\n",
    "joy, or gout.  I forget which.  We had a large party staying here at the\n",
    "time, so we were all very much interested in the whole affair\n",
    "'''"
   ]
  },
  {
   "cell_type": "code",
   "execution_count": 4,
   "metadata": {},
   "outputs": [
    {
     "output_type": "stream",
     "name": "stderr",
     "text": "100%|██████████| 20/20 [00:00<00:00, 2994.01it/s]\n"
    }
   ],
   "source": [
    "bpevocab = BuildBPEVocab(corpus, iters=20)"
   ]
  },
  {
   "cell_type": "code",
   "execution_count": 5,
   "metadata": {},
   "outputs": [],
   "source": [
    "tokenizer = BPETokenize(bpevocab.strtoint, bpevocab.inttostr, bpevocab.vocab_tokenization)"
   ]
  },
  {
   "cell_type": "code",
   "execution_count": 6,
   "metadata": {},
   "outputs": [
    {
     "output_type": "stream",
     "name": "stdout",
     "text": "Sen: ['so</w>', '</space/></w>', 'we</w>']\n"
    },
    {
     "output_type": "execute_result",
     "data": {
      "text/plain": "('so </space/> we',\n [['s', 'o', '</w>'], ['</space/></w>'], ['w', 'e</w>']],\n [3, 21, 9, 50, 29, 6])"
     },
     "metadata": {},
     "execution_count": 6
    }
   ],
   "source": [
    "tokenizer.tokenize_sentence('so we', bpevocab.sorted_tokens)"
   ]
  },
  {
   "cell_type": "code",
   "execution_count": 8,
   "metadata": {},
   "outputs": [
    {
     "output_type": "execute_result",
     "data": {
      "text/plain": "50"
     },
     "metadata": {},
     "execution_count": 8
    }
   ],
   "source": [
    "bpevocab.strtoint['</space/></w>']"
   ]
  },
  {
   "cell_type": "code",
   "execution_count": 9,
   "metadata": {},
   "outputs": [
    {
     "output_type": "stream",
     "name": "stdout",
     "text": "Sen: ['</space/></w>']\n"
    },
    {
     "output_type": "execute_result",
     "data": {
      "text/plain": "('</space/>', [['</space/></w>']], [50])"
     },
     "metadata": {},
     "execution_count": 9
    }
   ],
   "source": [
    "tokenizer.tokenize_sentence('</space/>', bpevocab.sorted_tokens)"
   ]
  },
  {
   "cell_type": "code",
   "execution_count": null,
   "metadata": {},
   "outputs": [],
   "source": []
  }
 ],
 "metadata": {
  "language_info": {
   "codemirror_mode": {
    "name": "ipython",
    "version": 3
   },
   "file_extension": ".py",
   "mimetype": "text/x-python",
   "name": "python",
   "nbconvert_exporter": "python",
   "pygments_lexer": "ipython3",
   "version": "3.7.7-final"
  },
  "orig_nbformat": 2,
  "kernelspec": {
   "name": "python37764bittestenvconda631b6b60be454ed78fed85deefab8847",
   "display_name": "Python 3.7.7 64-bit ('test_env': conda)"
  }
 },
 "nbformat": 4,
 "nbformat_minor": 2
}